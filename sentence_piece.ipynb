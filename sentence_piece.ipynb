{
 "cells": [
  {
   "cell_type": "code",
   "execution_count": null,
   "id": "ace714e3-dc65-43f0-9db4-671a31f19575",
   "metadata": {},
   "outputs": [],
   "source": [
    "import sentencepiece as spm\n",
    "\n",
    "spm.SentencePieceTrainer.train(\n",
    "    input=\"tamil_corpus.txt\", \n",
    "    model_prefix=\"tamil_spm\",  \n",
    "    vocab_size=5000,  \n",
    "    model_type=\"unigram\",  \n",
    "    character_coverage=0.9995, \n",
    "    pad_id=0, bos_id=1, eos_id=2, unk_id=3  \n",
    ")\n"
   ]
  },
  {
   "cell_type": "code",
   "execution_count": null,
   "id": "7a6d4164-cf6a-47fa-9d05-f1b58b2b833b",
   "metadata": {},
   "outputs": [],
   "source": [
    "sp = spm.SentencePieceProcessor(model_file=\"tamil_spm.model\")\n",
    "\n",
    "tamil_text = \"நல்லவனாகிவிடுவேன்\"\n",
    "\n",
    "tokens = sp.encode(tamil_text, out_type=str)\n",
    "print(\"Tokenized Output:\", tokens)\n",
    "\n",
    "detokenized_text = sp.decode(tokens)\n",
    "print(\"Detokenized Output:\", detokenized_text)"
   ]
  }
 ],
 "metadata": {
  "kernelspec": {
   "display_name": "Python 3 (ipykernel)",
   "language": "python",
   "name": "python3"
  },
  "language_info": {
   "codemirror_mode": {
    "name": "ipython",
    "version": 3
   },
   "file_extension": ".py",
   "mimetype": "text/x-python",
   "name": "python",
   "nbconvert_exporter": "python",
   "pygments_lexer": "ipython3",
   "version": "3.10.0"
  }
 },
 "nbformat": 4,
 "nbformat_minor": 5
}
