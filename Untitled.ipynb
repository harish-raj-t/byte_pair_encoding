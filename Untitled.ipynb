{
 "cells": [
  {
   "cell_type": "code",
   "execution_count": 80,
   "id": "43020873-58b4-494a-b909-0a02d6b8f27d",
   "metadata": {},
   "outputs": [],
   "source": [
    "text = \"Learn how to start building, shipping\"\n",
    "#text = \"Learn how to start building, shipping, and maintaining software with GitHub. Explore our products, sign up for an account, and connect with the world's largest development community.\""
   ]
  },
  {
   "cell_type": "code",
   "execution_count": 81,
   "id": "ed316d1e-0945-4c2c-ab8f-42bc3c876183",
   "metadata": {},
   "outputs": [],
   "source": [
    "tokens = text.encode(\"utf-8\")"
   ]
  },
  {
   "cell_type": "code",
   "execution_count": 82,
   "id": "efcc1df6-6712-4905-ac2f-b07875fbce57",
   "metadata": {},
   "outputs": [],
   "source": [
    "tokens = list(map(int,tokens))"
   ]
  },
  {
   "cell_type": "code",
   "execution_count": 86,
   "id": "c0790fab-5571-4e2c-8fd1-7a18d0db3719",
   "metadata": {},
   "outputs": [
    {
     "data": {
      "text/plain": [
       "[32,\n",
       " 32,\n",
       " 32,\n",
       " 32,\n",
       " 32,\n",
       " 44,\n",
       " 76,\n",
       " 97,\n",
       " 97,\n",
       " 98,\n",
       " 100,\n",
       " 101,\n",
       " 103,\n",
       " 103,\n",
       " 104,\n",
       " 104,\n",
       " 105,\n",
       " 105,\n",
       " 105,\n",
       " 105,\n",
       " 108,\n",
       " 110,\n",
       " 110,\n",
       " 110,\n",
       " 111,\n",
       " 111,\n",
       " 112,\n",
       " 112,\n",
       " 114,\n",
       " 114,\n",
       " 115,\n",
       " 115,\n",
       " 116,\n",
       " 116,\n",
       " 116,\n",
       " 117,\n",
       " 119]"
      ]
     },
     "execution_count": 86,
     "metadata": {},
     "output_type": "execute_result"
    }
   ],
   "source": [
    "sorted(tokens)"
   ]
  },
  {
   "cell_type": "code",
   "execution_count": 53,
   "id": "62f24e29-4c51-436e-920e-fe2356511935",
   "metadata": {},
   "outputs": [],
   "source": [
    "latest_idx = len(tokens)"
   ]
  },
  {
   "cell_type": "code",
   "execution_count": 64,
   "id": "668e4782-f30e-4f97-bb41-95131e75c66d",
   "metadata": {},
   "outputs": [
    {
     "data": {
      "text/plain": [
       "182"
      ]
     },
     "execution_count": 64,
     "metadata": {},
     "output_type": "execute_result"
    }
   ],
   "source": [
    "latest_idx"
   ]
  },
  {
   "cell_type": "code",
   "execution_count": 65,
   "id": "af7d3fc7-3cc0-4eeb-88e7-cc12a71ea969",
   "metadata": {},
   "outputs": [],
   "source": [
    "from collections import defaultdict\n",
    "def get_pairs(tokens):\n",
    "    byte_pairs = defaultdict(int)\n",
    "    for pair in zip(tokens[:-1],tokens[1:]):\n",
    "        byte_pairs[pair] += 1\n",
    "    return byte_pairs"
   ]
  },
  {
   "cell_type": "code",
   "execution_count": 66,
   "id": "997da11f-31c6-4b07-a125-7d6ebc39382b",
   "metadata": {},
   "outputs": [],
   "source": [
    "pairs = get_pairs(tokens)"
   ]
  },
  {
   "cell_type": "code",
   "execution_count": 67,
   "id": "45f69e26-e109-4568-9ced-da96cdf6c75d",
   "metadata": {},
   "outputs": [
    {
     "data": {
      "text/plain": [
       "123"
      ]
     },
     "execution_count": 67,
     "metadata": {},
     "output_type": "execute_result"
    }
   ],
   "source": [
    "len(pairs)"
   ]
  },
  {
   "cell_type": "code",
   "execution_count": 56,
   "id": "51c30112-d691-4795-96b9-aa493e58d27e",
   "metadata": {},
   "outputs": [],
   "source": [
    "most_freq_pair = max(pairs, key = pairs.get)"
   ]
  },
  {
   "cell_type": "code",
   "execution_count": 57,
   "id": "6a75145a-a364-489a-81ba-d2b2081d522e",
   "metadata": {},
   "outputs": [
    {
     "data": {
      "text/plain": [
       "(105, 110)"
      ]
     },
     "execution_count": 57,
     "metadata": {},
     "output_type": "execute_result"
    }
   ],
   "source": [
    "most_freq_pair"
   ]
  },
  {
   "cell_type": "code",
   "execution_count": 58,
   "id": "b478797c-1b57-4221-b03e-884c89ef7acd",
   "metadata": {},
   "outputs": [],
   "source": [
    "def merge_pairs(byte_pair, tokens, new_idx):\n",
    "    new_list = []\n",
    "    length = len(tokens)-1\n",
    "    idx = 0\n",
    "    while idx < length:\n",
    "        if byte_pair == (tokens[idx],tokens[idx+1]):\n",
    "            new_list.append(new_idx)\n",
    "            idx = idx+2\n",
    "        else:\n",
    "            new_list.append(tokens[idx])\n",
    "            idx = idx+1\n",
    "        \n",
    "    return new_list"
   ]
  },
  {
   "cell_type": "code",
   "execution_count": 60,
   "id": "37d728f4-0783-424e-acb9-8bc3054b3b5e",
   "metadata": {},
   "outputs": [],
   "source": [
    "#merge_pairs(most_freq_pair,tokens,latest_idx)"
   ]
  },
  {
   "cell_type": "code",
   "execution_count": 83,
   "id": "7385eec0-a198-41a9-9d15-7501ace3e8ae",
   "metadata": {},
   "outputs": [],
   "source": [
    "def merge(tokens, vocab=270):\n",
    "    current_vocab = len(tokens)\n",
    "    while current_vocab < vocab:\n",
    "        pairs = get_pairs(tokens)\n",
    "        print(pairs)\n",
    "        most_freq_pair = max(pairs, key = pairs.get)\n",
    "        tokens = merge_pairs(most_freq_pair,tokens,current_vocab)\n",
    "        current_vocab = len(tokens)\n",
    "    return tokens"
   ]
  },
  {
   "cell_type": "code",
   "execution_count": 84,
   "id": "180578bc-4ecf-417d-9b90-76030e0ecda1",
   "metadata": {},
   "outputs": [
    {
     "name": "stdout",
     "output_type": "stream",
     "text": [
      "defaultdict(<class 'int'>, {(76, 101): 1, (101, 97): 1, (97, 114): 2, (114, 110): 1, (110, 32): 1, (32, 104): 1, (104, 111): 1, (111, 119): 1, (119, 32): 1, (32, 116): 1, (116, 111): 1, (111, 32): 1, (32, 115): 2, (115, 116): 1, (116, 97): 1, (114, 116): 1, (116, 32): 1, (32, 98): 1, (98, 117): 1, (117, 105): 1, (105, 108): 1, (108, 100): 1, (100, 105): 1, (105, 110): 2, (110, 103): 2, (103, 44): 1, (44, 32): 1, (115, 104): 1, (104, 105): 1, (105, 112): 1, (112, 112): 1, (112, 105): 1})\n",
      "defaultdict(<class 'int'>, {(76, 101): 1, (101, 37): 1, (37, 110): 1, (110, 32): 1, (32, 104): 1, (104, 111): 1, (111, 119): 1, (119, 32): 1, (32, 116): 1, (116, 111): 1, (111, 32): 1, (32, 115): 2, (115, 116): 1, (116, 37): 1, (37, 116): 1, (116, 32): 1, (32, 98): 1, (98, 117): 1, (117, 105): 1, (105, 108): 1, (108, 100): 1, (100, 105): 1, (105, 110): 2, (110, 103): 1, (103, 44): 1, (44, 32): 1, (115, 104): 1, (104, 105): 1, (105, 112): 1, (112, 112): 1, (112, 105): 1})\n",
      "defaultdict(<class 'int'>, {(76, 101): 1, (101, 37): 1, (37, 110): 1, (110, 32): 1, (32, 104): 1, (104, 111): 1, (111, 119): 1, (119, 32): 1, (32, 116): 1, (116, 111): 1, (111, 34): 1, (34, 116): 1, (116, 37): 1, (37, 116): 1, (116, 32): 1, (32, 98): 1, (98, 117): 1, (117, 105): 1, (105, 108): 1, (108, 100): 1, (100, 105): 1, (105, 110): 1, (110, 103): 1, (103, 44): 1, (44, 34): 1, (34, 104): 1, (104, 105): 1, (105, 112): 1, (112, 112): 1, (112, 105): 1})\n",
      "defaultdict(<class 'int'>, {(31, 37): 1, (37, 110): 1, (110, 32): 1, (32, 104): 1, (104, 111): 1, (111, 119): 1, (119, 32): 1, (32, 116): 1, (116, 111): 1, (111, 34): 1, (34, 116): 1, (116, 37): 1, (37, 116): 1, (116, 32): 1, (32, 98): 1, (98, 117): 1, (117, 105): 1, (105, 108): 1, (108, 100): 1, (100, 105): 1, (105, 110): 1, (110, 103): 1, (103, 44): 1, (44, 34): 1, (34, 104): 1, (104, 105): 1, (105, 112): 1, (112, 112): 1})\n",
      "defaultdict(<class 'int'>, {(29, 110): 1, (110, 32): 1, (32, 104): 1, (104, 111): 1, (111, 119): 1, (119, 32): 1, (32, 116): 1, (116, 111): 1, (111, 34): 1, (34, 116): 1, (116, 37): 1, (37, 116): 1, (116, 32): 1, (32, 98): 1, (98, 117): 1, (117, 105): 1, (105, 108): 1, (108, 100): 1, (100, 105): 1, (105, 110): 1, (110, 103): 1, (103, 44): 1, (44, 34): 1, (34, 104): 1, (104, 105): 1, (105, 112): 1})\n",
      "defaultdict(<class 'int'>, {(27, 32): 1, (32, 104): 1, (104, 111): 1, (111, 119): 1, (119, 32): 1, (32, 116): 1, (116, 111): 1, (111, 34): 1, (34, 116): 1, (116, 37): 1, (37, 116): 1, (116, 32): 1, (32, 98): 1, (98, 117): 1, (117, 105): 1, (105, 108): 1, (108, 100): 1, (100, 105): 1, (105, 110): 1, (110, 103): 1, (103, 44): 1, (44, 34): 1, (34, 104): 1, (104, 105): 1})\n",
      "defaultdict(<class 'int'>, {(25, 104): 1, (104, 111): 1, (111, 119): 1, (119, 32): 1, (32, 116): 1, (116, 111): 1, (111, 34): 1, (34, 116): 1, (116, 37): 1, (37, 116): 1, (116, 32): 1, (32, 98): 1, (98, 117): 1, (117, 105): 1, (105, 108): 1, (108, 100): 1, (100, 105): 1, (105, 110): 1, (110, 103): 1, (103, 44): 1, (44, 34): 1, (34, 104): 1})\n",
      "defaultdict(<class 'int'>, {(23, 111): 1, (111, 119): 1, (119, 32): 1, (32, 116): 1, (116, 111): 1, (111, 34): 1, (34, 116): 1, (116, 37): 1, (37, 116): 1, (116, 32): 1, (32, 98): 1, (98, 117): 1, (117, 105): 1, (105, 108): 1, (108, 100): 1, (100, 105): 1, (105, 110): 1, (110, 103): 1, (103, 44): 1, (44, 34): 1})\n",
      "defaultdict(<class 'int'>, {(21, 119): 1, (119, 32): 1, (32, 116): 1, (116, 111): 1, (111, 34): 1, (34, 116): 1, (116, 37): 1, (37, 116): 1, (116, 32): 1, (32, 98): 1, (98, 117): 1, (117, 105): 1, (105, 108): 1, (108, 100): 1, (100, 105): 1, (105, 110): 1, (110, 103): 1, (103, 44): 1})\n",
      "defaultdict(<class 'int'>, {(19, 32): 1, (32, 116): 1, (116, 111): 1, (111, 34): 1, (34, 116): 1, (116, 37): 1, (37, 116): 1, (116, 32): 1, (32, 98): 1, (98, 117): 1, (117, 105): 1, (105, 108): 1, (108, 100): 1, (100, 105): 1, (105, 110): 1, (110, 103): 1})\n",
      "defaultdict(<class 'int'>, {(17, 116): 1, (116, 111): 1, (111, 34): 1, (34, 116): 1, (116, 37): 1, (37, 116): 1, (116, 32): 1, (32, 98): 1, (98, 117): 1, (117, 105): 1, (105, 108): 1, (108, 100): 1, (100, 105): 1, (105, 110): 1})\n",
      "defaultdict(<class 'int'>, {(15, 111): 1, (111, 34): 1, (34, 116): 1, (116, 37): 1, (37, 116): 1, (116, 32): 1, (32, 98): 1, (98, 117): 1, (117, 105): 1, (105, 108): 1, (108, 100): 1, (100, 105): 1})\n",
      "defaultdict(<class 'int'>, {(13, 34): 1, (34, 116): 1, (116, 37): 1, (37, 116): 1, (116, 32): 1, (32, 98): 1, (98, 117): 1, (117, 105): 1, (105, 108): 1, (108, 100): 1})\n",
      "defaultdict(<class 'int'>, {(11, 116): 1, (116, 37): 1, (37, 116): 1, (116, 32): 1, (32, 98): 1, (98, 117): 1, (117, 105): 1, (105, 108): 1})\n",
      "defaultdict(<class 'int'>, {(9, 37): 1, (37, 116): 1, (116, 32): 1, (32, 98): 1, (98, 117): 1, (117, 105): 1})\n",
      "defaultdict(<class 'int'>, {(7, 116): 1, (116, 32): 1, (32, 98): 1, (98, 117): 1})\n",
      "defaultdict(<class 'int'>, {(5, 32): 1, (32, 98): 1})\n",
      "defaultdict(<class 'int'>, {})\n"
     ]
    },
    {
     "ename": "ValueError",
     "evalue": "max() arg is an empty sequence",
     "output_type": "error",
     "traceback": [
      "\u001b[1;31m---------------------------------------------------------------------------\u001b[0m",
      "\u001b[1;31mValueError\u001b[0m                                Traceback (most recent call last)",
      "Cell \u001b[1;32mIn[84], line 1\u001b[0m\n\u001b[1;32m----> 1\u001b[0m \u001b[43mmerge\u001b[49m\u001b[43m(\u001b[49m\u001b[43mtokens\u001b[49m\u001b[43m,\u001b[49m\u001b[43m \u001b[49m\u001b[38;5;241;43m200\u001b[39;49m\u001b[43m)\u001b[49m\n",
      "Cell \u001b[1;32mIn[83], line 6\u001b[0m, in \u001b[0;36mmerge\u001b[1;34m(tokens, vocab)\u001b[0m\n\u001b[0;32m      4\u001b[0m pairs \u001b[38;5;241m=\u001b[39m get_pairs(tokens)\n\u001b[0;32m      5\u001b[0m \u001b[38;5;28mprint\u001b[39m(pairs)\n\u001b[1;32m----> 6\u001b[0m most_freq_pair \u001b[38;5;241m=\u001b[39m \u001b[38;5;28;43mmax\u001b[39;49m\u001b[43m(\u001b[49m\u001b[43mpairs\u001b[49m\u001b[43m,\u001b[49m\u001b[43m \u001b[49m\u001b[43mkey\u001b[49m\u001b[43m \u001b[49m\u001b[38;5;241;43m=\u001b[39;49m\u001b[43m \u001b[49m\u001b[43mpairs\u001b[49m\u001b[38;5;241;43m.\u001b[39;49m\u001b[43mget\u001b[49m\u001b[43m)\u001b[49m\n\u001b[0;32m      7\u001b[0m tokens \u001b[38;5;241m=\u001b[39m merge_pairs(most_freq_pair,tokens,current_vocab)\n\u001b[0;32m      8\u001b[0m current_vocab \u001b[38;5;241m=\u001b[39m \u001b[38;5;28mlen\u001b[39m(tokens)\n",
      "\u001b[1;31mValueError\u001b[0m: max() arg is an empty sequence"
     ]
    }
   ],
   "source": [
    "merge(tokens, 200)"
   ]
  },
  {
   "cell_type": "code",
   "execution_count": null,
   "id": "8ab02fd9-9744-43d0-b1cf-8e89abd73c8b",
   "metadata": {},
   "outputs": [],
   "source": []
  }
 ],
 "metadata": {
  "kernelspec": {
   "display_name": "Python 3 (ipykernel)",
   "language": "python",
   "name": "python3"
  },
  "language_info": {
   "codemirror_mode": {
    "name": "ipython",
    "version": 3
   },
   "file_extension": ".py",
   "mimetype": "text/x-python",
   "name": "python",
   "nbconvert_exporter": "python",
   "pygments_lexer": "ipython3",
   "version": "3.10.0"
  }
 },
 "nbformat": 4,
 "nbformat_minor": 5
}
